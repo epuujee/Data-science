{
  "nbformat": 4,
  "nbformat_minor": 0,
  "metadata": {
    "colab": {
      "name": "Neo4j DB.ipynb",
      "provenance": [],
      "collapsed_sections": [],
      "authorship_tag": "ABX9TyOuZdfKFnlvH9RMp9lDodD4",
      "include_colab_link": true
    },
    "kernelspec": {
      "name": "python3",
      "display_name": "Python 3"
    },
    "language_info": {
      "name": "python"
    }
  },
  "cells": [
    {
      "cell_type": "markdown",
      "metadata": {
        "id": "view-in-github",
        "colab_type": "text"
      },
      "source": [
        "<a href=\"https://colab.research.google.com/github/epuujee/Data-science/blob/master/Neo4j_DB.ipynb\" target=\"_parent\"><img src=\"https://colab.research.google.com/assets/colab-badge.svg\" alt=\"Open In Colab\"/></a>"
      ]
    },
    {
      "cell_type": "code",
      "execution_count": 2,
      "metadata": {
        "id": "PRJbXveb9pKx"
      },
      "outputs": [],
      "source": [
        "#!pip install neo4j-driver"
      ]
    },
    {
      "cell_type": "code",
      "source": [
        "from neo4j import GraphDatabase, basic_auth"
      ],
      "metadata": {
        "id": "0uwEUFcD9sGq"
      },
      "execution_count": 3,
      "outputs": []
    },
    {
      "cell_type": "code",
      "source": [
        "driver = GraphDatabase.driver(\n",
        "  \"neo4j://server\",\n",
        "  auth=basic_auth(\"neo4j\", \"password\"))"
      ],
      "metadata": {
        "id": "WEBjy0j79yKi"
      },
      "execution_count": 4,
      "outputs": []
    },
    {
      "cell_type": "code",
      "source": [
        "cypher_query = '''\n",
        "MATCH (c:Person{name:$name})-[r:INTERACTS]->(other)\n",
        "  RETURN other.name as person\n",
        "'''\n",
        "\n",
        "with driver.session(database=\"neo4j\") as session:\n",
        "  results = session.read_transaction(\n",
        "    lambda tx: tx.run(cypher_query,\n",
        "                      name=\"Jaime Lannister\").data())\n",
        "  for record in results:\n",
        "    print(record['person'])\n",
        "\n",
        "driver.close()"
      ],
      "metadata": {
        "colab": {
          "base_uri": "https://localhost:8080/"
        },
        "id": "Unt8b7Ku90OB",
        "outputId": "4cd95428-2f99-444c-d3ff-a81b4d0a66cb"
      },
      "execution_count": 5,
      "outputs": [
        {
          "output_type": "stream",
          "name": "stdout",
          "text": [
            "Josmyn Peckledon\n",
            "Jonos Bracken\n",
            "Tytos Blackwood\n",
            "Tyrion Lannister\n",
            "Kevan Lannister\n",
            "Robert Baratheon\n",
            "Vargo Hoat\n",
            "Joy Hill\n",
            "Wylis Manderly\n",
            "Ronnet Connington\n",
            "Shadrich\n",
            "Mace Tyrell\n",
            "Tyrion Lannister\n",
            "Josmyn Peckledon\n",
            "Pycelle\n",
            "Lyle Crakehall\n",
            "Rhaegar Targaryen\n",
            "Shitmouth\n",
            "Lewys Piper\n",
            "Robb Stark\n",
            "Melara Hetherspoon\n",
            "Pia\n",
            "Rennifer Longwaters\n",
            "Ryman Frey\n",
            "Olenna Redwyne\n",
            "Renly Baratheon\n",
            "Varys\n",
            "Thoros\n",
            "Karyl Vance\n",
            "Qyburn\n",
            "Tywin Lannister\n",
            "Osmund Kettleblack\n",
            "Margaery Tyrell\n",
            "Lancel Lannister\n",
            "Rafford\n",
            "Tommen Baratheon\n",
            "Walder Rivers\n",
            "Robert Baratheon\n",
            "Mariya Darry\n",
            "Sandor Clegane\n",
            "Sansa Stark\n",
            "Zollo\n",
            "Sybell Spicer\n",
            "Walder Frey\n",
            "Taena of Myr\n",
            "Kevan Lannister\n",
            "Loras Tyrell\n",
            "Rorge\n",
            "Walton\n",
            "Shagwell\n",
            "Osmund Kettleblack\n",
            "Lem\n",
            "Vargo Hoat\n",
            "Robb Stark\n",
            "Robert Baratheon\n",
            "Roose Bolton\n",
            "Tommen Baratheon\n",
            "Oberyn Martell\n",
            "Qyburn\n",
            "Robin Ryger\n",
            "Joffrey Baratheon\n",
            "Tywin Lannister\n",
            "Sansa Stark\n",
            "Urswyck\n",
            "Thoros\n",
            "Meryn Trant\n",
            "Tyrion Lannister\n",
            "Loras Tyrell\n",
            "Varys\n",
            "Lysa Arryn\n",
            "Stannis Baratheon\n",
            "Rickard Karstark\n",
            "Renly Baratheon\n",
            "Robert Baratheon\n",
            "Theon Greyjoy\n",
            "Tywin Lannister\n",
            "Stannis Baratheon\n",
            "Tysha\n",
            "Jon Snow\n",
            "Sansa Stark\n",
            "Robb Stark\n",
            "Joffrey Baratheon\n",
            "Renly Baratheon\n",
            "Stafford Lannister\n",
            "Mandon Moore\n",
            "Tyrion Lannister\n",
            "Petyr Baelish\n",
            "Sandor Clegane\n",
            "Lysa Arryn\n",
            "Wyl (guard)\n",
            "Sansa Stark\n",
            "Tywin Lannister\n",
            "Tyrion Lannister\n",
            "Kevan Lannister\n",
            "Joffrey Baratheon\n",
            "Robb Stark\n",
            "Rickard Karstark\n",
            "Rodrik Cassel\n",
            "Loras Tyrell\n",
            "Jory Cassel\n",
            "Robert Baratheon\n",
            "Petyr Baelish\n",
            "Varys\n",
            "Renly Baratheon\n",
            "Jon Arryn\n"
          ]
        }
      ]
    },
    {
      "cell_type": "code",
      "source": [
        ""
      ],
      "metadata": {
        "id": "rBOFNCCc93ww"
      },
      "execution_count": null,
      "outputs": []
    }
  ]
}